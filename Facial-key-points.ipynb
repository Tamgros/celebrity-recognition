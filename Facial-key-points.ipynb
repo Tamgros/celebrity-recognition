{
 "cells": [
  {
   "cell_type": "code",
   "execution_count": 66,
   "metadata": {},
   "outputs": [],
   "source": [
    "import zipfile\n",
    "import numpy as np\n",
    "import os\n",
    "from skimage.transform import resize"
   ]
  },
  {
   "cell_type": "code",
   "execution_count": null,
   "metadata": {},
   "outputs": [],
   "source": []
  },
  {
   "cell_type": "code",
   "execution_count": null,
   "metadata": {},
   "outputs": [],
   "source": [
    "def unpack(filename):\n",
    "    with zipfile.ZipFile(filename) as (zf):\n",
    "        zf.extractall()"
   ]
  },
  {
   "cell_type": "code",
   "execution_count": 22,
   "metadata": {},
   "outputs": [],
   "source": [
    "MAX_IMG_VALUE = 255"
   ]
  },
  {
   "cell_type": "code",
   "execution_count": 2,
   "metadata": {},
   "outputs": [],
   "source": [
    "unpack('all.zip')\n",
    "unpack('test.zip')\n",
    "unpack('training.zip')"
   ]
  },
  {
   "cell_type": "markdown",
   "metadata": {},
   "source": [
    "Now we have files:\n",
    "* IdLookupTable.csv\n",
    "* training.csv\n",
    "* test.csv\n"
   ]
  },
  {
   "cell_type": "code",
   "execution_count": 8,
   "metadata": {},
   "outputs": [
    {
     "name": "stdout",
     "output_type": "stream",
     "text": [
      "RowId,ImageId,FeatureName,Location\n",
      "\n",
      "1,1,left_eye_center_x\n",
      "\n",
      "2,1,left_eye_center_y\n",
      "\n",
      "3,1,right_eye_center_x\n",
      "\n"
     ]
    }
   ],
   "source": [
    "with open('IdLookupTable.csv', 'r') as IdLookupTable_csv:\n",
    "    print(IdLookupTable_csv.readline())\n",
    "    print(IdLookupTable_csv.readline())\n",
    "    print(IdLookupTable_csv.readline())\n",
    "    print(IdLookupTable_csv.readline())"
   ]
  },
  {
   "cell_type": "code",
   "execution_count": 26,
   "metadata": {},
   "outputs": [
    {
     "name": "stdout",
     "output_type": "stream",
     "text": [
      "left_eye_center_x,left_eye_center_y,right_eye_center_x,right_eye_center_y,left_eye_inner_corner_x,left_eye_inner_corner_y,left_eye_outer_corner_x,left_eye_outer_corner_y,right_eye_inner_corner_x,right_eye_inner_corner_y,right_eye_outer_corner_x,right_eye_outer_corner_y,left_eyebrow_inner_end_x,left_eyebrow_inner_end_y,left_eyebrow_outer_end_x,left_eyebrow_outer_end_y,right_eyebrow_inner_end_x,right_eyebrow_inner_end_y,right_eyebrow_outer_end_x,right_eyebrow_outer_end_y,nose_tip_x,nose_tip_y,mouth_left_corner_x,mouth_left_corner_y,mouth_right_corner_x,mouth_right_corner_y,mouth_center_top_lip_x,mouth_center_top_lip_y,mouth_center_bottom_lip_x,mouth_center_bottom_lip_y,Image\n",
      "\n",
      "[[0.93333333 0.9254902  0.92941176 ... 0.98039216 0.98039216 0.98039216]\n",
      " [0.92156863 0.93333333 0.9254902  ... 0.97647059 0.98039216 0.98431373]\n",
      " [0.92941176 0.9254902  0.92941176 ... 0.98431373 0.98431373 0.98039216]\n",
      " ...\n",
      " [0.72941176 0.71764706 0.70980392 ... 0.20392157 0.22352941 0.23529412]\n",
      " [0.74117647 0.7372549  0.81176471 ... 0.23921569 0.27058824 0.30588235]\n",
      " [0.74901961 0.72156863 0.72156863 ... 0.2745098  0.29411765 0.35294118]]\n",
      "[64.33293617 34.9700766  29.9492766  33.44871489 58.85617021 35.27434894\n",
      " 70.7227234  36.18716596 36.0347234  34.36153191 24.47251064 33.14444255\n",
      " 53.98740426 28.27594894 78.63421277 30.4059234  42.72885106 26.14604255\n",
      " 16.8653617  27.05885957 48.20629787 55.66093617 56.42144681 76.352\n",
      " 35.12238298 76.04765957 46.68459574 70.26655319 45.46791489 85.48017021]\n",
      "(30,)\n"
     ]
    }
   ],
   "source": [
    "with open('training.csv', 'r') as training:\n",
    "    print(training.readline())\n",
    "    print(np.array([int(num)/MAX_IMG_VALUE for num in training.readline().split(',')[-1].split(' ')]).reshape(96,96))\n",
    "    print(np.array([float(pt) for pt in training.readline().split(',')[:-1]]))\n",
    "    print(np.array([float(pt) for pt in training.readline().split(',')[:-1]]).shape)"
   ]
  },
  {
   "cell_type": "code",
   "execution_count": 95,
   "metadata": {},
   "outputs": [],
   "source": [
    "def parse_imgs_and_keypoints(file, file_path = '', resize_h = 100, resize_w = 100, max_imgs = None):\n",
    "    with open(os.path.join(file_path,file), 'r') as data:\n",
    "        #remove header\n",
    "        data.readline()\n",
    "        \n",
    "        images = np.empty((0,96,96,1), float)\n",
    "        key_points = np.empty([0,30], float)\n",
    "        \n",
    "        num_imgs = 0\n",
    "        for line in data:\n",
    "            if len(line.split(',')) <31:\n",
    "                continue\n",
    "            row = line.split(',')\n",
    "            \n",
    "   \n",
    "            row_pts = np.array([float(pt) if pt != '' else None for pt in row[:-1]])\n",
    "  \n",
    "            \n",
    "            image = np.array([float(num)/MAX_IMG_VALUE for num in row[-1].split(' ')])\n",
    "\n",
    "            image = image.reshape(1,96,96,1)\n",
    "\n",
    "            #try:\n",
    "            #    images = np.append(images, image, axis = 0)\n",
    "            #except:\n",
    "            #    print(image.shape)\n",
    "            images = np.vstack((images,image))\n",
    "            key_points = np.vstack((key_points, row_pts))\n",
    "            \n",
    "            num_imgs += 1\n",
    "            if max_imgs is not None and num_imgs >= max_imgs:\n",
    "                break\n",
    "    return key_points, images"
   ]
  },
  {
   "cell_type": "code",
   "execution_count": 96,
   "metadata": {},
   "outputs": [],
   "source": [
    "key_pts, imgs = parse_imgs_and_keypoints('training.csv', max_imgs = 100)"
   ]
  },
  {
   "cell_type": "code",
   "execution_count": 98,
   "metadata": {},
   "outputs": [
    {
     "data": {
      "text/plain": [
       "1.0"
      ]
     },
     "execution_count": 98,
     "metadata": {},
     "output_type": "execute_result"
    }
   ],
   "source": [
    "imgs.max()"
   ]
  },
  {
   "cell_type": "code",
   "execution_count": 65,
   "metadata": {},
   "outputs": [
    {
     "data": {
      "text/plain": [
       "array([[66.03356391, 39.00227368, 30.22700752, ..., 72.93545865,\n",
       "        43.13070677, 84.48577444],\n",
       "       [64.33293617, 34.9700766 , 29.9492766 , ..., 70.26655319,\n",
       "        45.46791489, 85.48017021],\n",
       "       [65.05705263, 34.90964211, 30.90378947, ..., 70.19178947,\n",
       "        47.27494737, 78.65936842],\n",
       "       ...,\n",
       "       [67.57628571, 31.16768571, 30.41914286, ..., 66.02657143,\n",
       "        53.40257143, 81.34885714],\n",
       "       [71.11064151, 35.92664151, 28.7474717 , ..., 71.81403774,\n",
       "        46.55637736, 88.27411321],\n",
       "       [67.67177143, 34.95579429, 30.89828571, ..., 71.1168    ,\n",
       "        48.36548571, 80.9232    ]])"
      ]
     },
     "execution_count": 65,
     "metadata": {},
     "output_type": "execute_result"
    }
   ],
   "source": [
    "key_pts"
   ]
  },
  {
   "cell_type": "code",
   "execution_count": null,
   "metadata": {},
   "outputs": [],
   "source": [
    "with open('training.csv', 'r') as training:\n",
    "    "
   ]
  },
  {
   "cell_type": "code",
   "execution_count": null,
   "metadata": {},
   "outputs": [],
   "source": []
  }
 ],
 "metadata": {
  "kernelspec": {
   "display_name": "Python 3",
   "language": "python",
   "name": "python3"
  },
  "language_info": {
   "codemirror_mode": {
    "name": "ipython",
    "version": 3
   },
   "file_extension": ".py",
   "mimetype": "text/x-python",
   "name": "python",
   "nbconvert_exporter": "python",
   "pygments_lexer": "ipython3",
   "version": "3.6.5"
  }
 },
 "nbformat": 4,
 "nbformat_minor": 2
}
